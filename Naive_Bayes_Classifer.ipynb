{
  "nbformat": 4,
  "nbformat_minor": 0,
  "metadata": {
    "colab": {
      "name": "Naive Bayes Classifer",
      "provenance": []
    },
    "kernelspec": {
      "name": "python3",
      "display_name": "Python 3"
    },
    "language_info": {
      "name": "python"
    }
  },
  "cells": [
    {
      "cell_type": "code",
      "metadata": {
        "colab": {
          "base_uri": "https://localhost:8080/"
        },
        "id": "1wUZQQtVXwUT",
        "outputId": "6117f805-3a3e-419b-8ac7-997eb9f1dd23"
      },
      "source": [
        "import pandas as pd\n",
        "df= pd.read_csv(\"https://raw.githubusercontent.com/whitehatjr/datasets/master/C120/diabetes.csv\")\n",
        "df.head()\n",
        "print(len(df))"
      ],
      "execution_count": 1,
      "outputs": [
        {
          "output_type": "stream",
          "name": "stdout",
          "text": [
            "995\n"
          ]
        }
      ]
    },
    {
      "cell_type": "code",
      "metadata": {
        "colab": {
          "base_uri": "https://localhost:8080/"
        },
        "id": "YM-9-nlUYEtD",
        "outputId": "ace3d31f-cbc0-4edc-9790-46c1301631de"
      },
      "source": [
        "from sklearn.naive_bayes import GaussianNB\n",
        "from sklearn.metrics import accuracy_score\n",
        "from sklearn.model_selection import train_test_split\n",
        "x=df[[\"glucose\",\"bloodpressure\"]]\n",
        "y=df[\"diabetes\"]\n",
        "\n",
        "# train and test\n",
        "x_train1,x_test1,y_train1,y_test1= train_test_split(x,y,test_size=0.25,random_state=0)\n",
        "\n",
        "# lets initalize the model\n",
        "model=GaussianNB()\n",
        "model.fit(x_train1,y_train1)\n",
        "\n",
        "# predict\n",
        "y_predict1=model.predict(x_test1)\n",
        "\n",
        "Accuracy= accuracy_score(y_test1,y_predict1)\n",
        "print(Accuracy)"
      ],
      "execution_count": 2,
      "outputs": [
        {
          "output_type": "stream",
          "name": "stdout",
          "text": [
            "0.9236947791164659\n"
          ]
        }
      ]
    },
    {
      "cell_type": "code",
      "metadata": {
        "colab": {
          "base_uri": "https://localhost:8080/"
        },
        "id": "Aq6a2vVca851",
        "outputId": "be4c6159-562e-456f-d860-04142886fe14"
      },
      "source": [
        "from sklearn.linear_model import LogisticRegression\n",
        "from sklearn.metrics import accuracy_score\n",
        "from sklearn.model_selection import train_test_split\n",
        "from sklearn.preprocessing import StandardScaler\n",
        "x=df[[\"glucose\",\"bloodpressure\"]]\n",
        "y=df[\"diabetes\"]\n",
        "\n",
        "# train and test\n",
        "x_train2,x_test2,y_train2,y_test2= train_test_split(x,y,test_size=0.25,random_state=0)\n",
        "\n",
        "# scaling the independent values using standard scaler (x_train,x_test)\n",
        "sc= StandardScaler()\n",
        "x_train2=sc.fit_transform(x_train2)\n",
        "x_test2= sc.fit_transform(x_test2)\n",
        "\n",
        "\n",
        "# lets initalize the model\n",
        "model=LogisticRegression(random_state=0)\n",
        "model.fit(x_train2,y_train2)\n",
        "\n",
        "# predict\n",
        "y_predict2=model.predict(x_test2)\n",
        "\n",
        "Accuracy= accuracy_score(y_test2,y_predict2)\n",
        "print(Accuracy)"
      ],
      "execution_count": 3,
      "outputs": [
        {
          "output_type": "stream",
          "name": "stdout",
          "text": [
            "0.8795180722891566\n"
          ]
        }
      ]
    }
  ]
}